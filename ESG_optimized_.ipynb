{
  "nbformat": 4,
  "nbformat_minor": 0,
  "metadata": {
    "colab": {
      "provenance": []
    },
    "kernelspec": {
      "name": "python3",
      "display_name": "Python 3"
    },
    "language_info": {
      "name": "python"
    }
  },
  "cells": [
    {
      "cell_type": "code",
      "execution_count": null,
      "metadata": {
        "id": "a-1wjMod_k5w"
      },
      "outputs": [],
      "source": [
        "import pandas_datareader.data as web\n",
        "import datetime\n",
        "import pandas as pd\n",
        "import yfinance as yf\n",
        "import numpy as np\n",
        "import math as m\n",
        "import random\n",
        "\n",
        "# Read the CSV file\n",
        "df = pd.read_csv('ESG_0.3.csv')\n"
      ]
    },
    {
      "cell_type": "code",
      "source": [
        "start = datetime.datetime(2024, 8, 13)\n",
        "end   = datetime.datetime(2023, 8, 13)"
      ],
      "metadata": {
        "id": "Fw2zQBe4_wPu"
      },
      "execution_count": null,
      "outputs": []
    },
    {
      "cell_type": "code",
      "source": [
        "# Dictionary to store the daily returns for each company\n",
        "returns_dict = {}\n",
        "\n",
        "# Download data and calculate daily returns for each company\n",
        "for ticker in df['company_ticker']:\n",
        "    data = yf.download(ticker, start='2023-08-13', end='2024-08-13')\n",
        "    # Calculate daily returns (difference in adjusted close prices)\n",
        "    data['Return'] = data['Adj Close'].diff()\n",
        "    # Store the returns in the dictionary\n",
        "    returns_dict[ticker] = data['Return']\n",
        "\n",
        "# Convert the returns dictionary to a DataFrame\n",
        "returns_df = pd.DataFrame(returns_dict)\n",
        "\n",
        "# Drop NaN values (the first return will be NaN since there's no previous day)\n",
        "returns_df = returns_df.dropna()"
      ],
      "metadata": {
        "colab": {
          "base_uri": "https://localhost:8080/"
        },
        "id": "-NVTeaI7ACb6",
        "outputId": "c79c482a-3d2e-4e44-8e76-5aaa6c91b43f"
      },
      "execution_count": null,
      "outputs": [
        {
          "output_type": "stream",
          "name": "stderr",
          "text": [
            "[*********************100%%**********************]  1 of 1 completed\n",
            "[*********************100%%**********************]  1 of 1 completed\n",
            "[*********************100%%**********************]  1 of 1 completed\n",
            "[*********************100%%**********************]  1 of 1 completed\n",
            "[*********************100%%**********************]  1 of 1 completed\n",
            "[*********************100%%**********************]  1 of 1 completed\n",
            "[*********************100%%**********************]  1 of 1 completed\n",
            "[*********************100%%**********************]  1 of 1 completed\n",
            "[*********************100%%**********************]  1 of 1 completed\n",
            "[*********************100%%**********************]  1 of 1 completed\n",
            "[*********************100%%**********************]  1 of 1 completed\n",
            "[*********************100%%**********************]  1 of 1 completed\n",
            "[*********************100%%**********************]  1 of 1 completed\n",
            "[*********************100%%**********************]  1 of 1 completed\n",
            "[*********************100%%**********************]  1 of 1 completed\n",
            "[*********************100%%**********************]  1 of 1 completed\n",
            "[*********************100%%**********************]  1 of 1 completed\n",
            "[*********************100%%**********************]  1 of 1 completed\n"
          ]
        }
      ]
    },
    {
      "cell_type": "code",
      "source": [
        "print(returns_df)"
      ],
      "metadata": {
        "colab": {
          "base_uri": "https://localhost:8080/"
        },
        "id": "bUaxDstlBN0I",
        "outputId": "f64856b0-3c4d-4a9a-8b9b-d7865fb5512f"
      },
      "execution_count": null,
      "outputs": [
        {
          "output_type": "stream",
          "name": "stdout",
          "text": [
            "                  GE        BA        TDG       MMM        PWR        CAT  \\\n",
            "Date                                                                        \n",
            "2023-08-15 -1.350212 -4.450012  -4.301880 -1.806412  -0.339447  -7.045807   \n",
            "2023-08-16 -0.222397 -2.309998  -4.735840 -0.277290  -2.426285  -2.810394   \n",
            "2023-08-17 -2.073006 -5.410004 -11.449036  0.800209  -0.359451   0.648529   \n",
            "2023-08-18  0.659248  2.110001  12.886169 -0.233200   2.655930  -1.346283   \n",
            "2023-08-21  0.182663  0.570007  -4.649048 -0.659393   0.499222  -1.031769   \n",
            "...              ...       ...        ...       ...        ...        ...   \n",
            "2024-08-06  3.910004 -1.990005  27.920044  0.279999   8.449997   9.640015   \n",
            "2024-08-07 -0.139999 -1.799988 -35.339966 -2.059998   0.470001  -0.640015   \n",
            "2024-08-08  3.479996  5.629990  29.089966  2.299995  14.299988  10.360016   \n",
            "2024-08-09  1.520004 -0.959991  14.979980 -0.959999  -3.179993   2.100006   \n",
            "2024-08-12 -0.260010 -3.779999 -13.049927 -0.809998   0.420013  -2.230011   \n",
            "\n",
            "                  GD       ATO       TXT       KHC       NUE      STLD  \\\n",
            "Date                                                                     \n",
            "2023-08-15 -3.171906 -1.507706 -1.578476 -0.458241 -2.755051 -3.390862   \n",
            "2023-08-16  0.450317  0.933815 -0.459549 -0.190926 -0.760361  1.626434   \n",
            "2023-08-17 -1.253098  0.992157 -0.869156 -0.066830 -0.543121 -0.413994   \n",
            "2023-08-18  2.065659  0.998489  0.519485  0.162292  0.404877 -0.197144   \n",
            "2023-08-21 -0.137054 -0.215363  0.299721 -0.171841 -0.671478 -1.360291   \n",
            "...              ...       ...       ...       ...       ...       ...   \n",
            "2024-08-06 -0.519989  0.259995 -0.309998 -0.380001 -0.559998  0.969994   \n",
            "2024-08-07  1.790009  0.580009 -1.110001 -0.150002 -4.770004 -3.259995   \n",
            "2024-08-08  3.629974 -1.150009  1.320000  0.540001  0.459991  1.089996   \n",
            "2024-08-09  2.190002  1.100006  0.349998  0.060001 -0.509995 -0.779999   \n",
            "2024-08-12 -1.789978  0.589996 -0.299995 -1.100002 -3.789993 -3.459999   \n",
            "\n",
            "                 SNA       LUV       LMT         PH       EMR       MCD  \n",
            "Date                                                                     \n",
            "2023-08-15 -2.814697 -0.400505 -6.321899  -4.993958 -0.423386 -0.498169  \n",
            "2023-08-16 -0.038940 -0.195366  1.507568  -2.408173  0.531693 -2.832703  \n",
            "2023-08-17 -0.352783 -0.674023  1.507507  -7.175110 -0.275688 -3.457825  \n",
            "2023-08-18  2.773041 -0.078146  3.287384  -1.273132  0.059074 -0.117218  \n",
            "2023-08-21 -1.332611 -0.224676  1.390778  -0.286224 -0.718788 -1.660553  \n",
            "...              ...       ...       ...        ...       ...       ...  \n",
            "2024-08-06  1.140015  0.639999 -3.820007  11.710022  1.389999  1.609985  \n",
            "2024-08-07 -3.339996 -0.020000  6.950012  -5.520020 -8.239998 -0.690002  \n",
            "2024-08-08  4.649994  0.900000  3.109985  55.580017  5.070000  1.820007  \n",
            "2024-08-09 -0.500000  0.110001 -0.039978   1.729980 -0.919998 -3.279999  \n",
            "2024-08-12 -5.369995  0.049999  5.329956  -2.029968 -0.620003  1.549988  \n",
            "\n",
            "[250 rows x 18 columns]\n"
          ]
        }
      ]
    },
    {
      "cell_type": "code",
      "source": [
        "pBar = returns_df.mean()\n",
        "print(pBar)\n",
        "pBar_array = pBar.to_numpy()\n"
      ],
      "metadata": {
        "colab": {
          "base_uri": "https://localhost:8080/"
        },
        "id": "1X2Jc5LrB58X",
        "outputId": "9f78946d-9fc8-4a9c-cb40-33c16dee6e44"
      },
      "execution_count": null,
      "outputs": [
        {
          "output_type": "stream",
          "name": "stdout",
          "text": [
            "GE      0.300377\n",
            "BA     -0.290320\n",
            "TDG     1.594863\n",
            "MMM     0.165688\n",
            "PWR     0.227249\n",
            "CAT     0.225681\n",
            "GD      0.278346\n",
            "ATO     0.062250\n",
            "TXT     0.029060\n",
            "KHC     0.005930\n",
            "NUE    -0.114141\n",
            "STLD    0.039431\n",
            "SNA     0.016977\n",
            "LUV    -0.029494\n",
            "LMT     0.476657\n",
            "PH      0.637445\n",
            "EMR     0.034578\n",
            "MCD    -0.050590\n",
            "dtype: float64\n"
          ]
        }
      ]
    },
    {
      "cell_type": "code",
      "source": [
        "print(pBar_array)"
      ],
      "metadata": {
        "colab": {
          "base_uri": "https://localhost:8080/"
        },
        "id": "GlPtgiX0DKc4",
        "outputId": "0297ffcc-d251-4cd7-85fb-0a68a74f0777"
      },
      "execution_count": null,
      "outputs": [
        {
          "output_type": "stream",
          "name": "stdout",
          "text": [
            "[ 0.30037741 -0.29032001  1.59486279  0.16568802  0.22724939  0.22568091\n",
            "  0.27834613  0.06225027  0.02906049  0.00593021 -0.11414069  0.03943149\n",
            "  0.01697742 -0.02949426  0.47665662  0.63744495  0.03457822 -0.05058997]\n"
          ]
        }
      ]
    },
    {
      "cell_type": "code",
      "source": [
        "# Initialize the covariance matrix DataFrame\n",
        "tickers = df['company_ticker']\n",
        "cov_matrix = pd.DataFrame(index=tickers, columns=tickers)\n",
        "\n",
        "# Calculate covariance and variance\n",
        "for ticker1 in tickers:\n",
        "    for ticker2 in tickers:\n",
        "        if ticker1 == ticker2:\n",
        "            # Calculate variance for the stock\n",
        "            variance = np.var(returns_df[ticker1], ddof=1)  # Sample variance\n",
        "            cov_matrix.loc[ticker1, ticker2] = variance\n",
        "        else:\n",
        "            # Calculate covariance between the two stocks\n",
        "            covariance = np.cov(returns_df[ticker1], returns_df[ticker2])[0][1]\n",
        "            cov_matrix.loc[ticker1, ticker2] = covariance\n",
        "\n",
        "# Convert all elements to floats (optional, but recommended)\n",
        "cov_matrix = cov_matrix.astype(float)\n",
        "\n",
        "# Print the covariance matrix\n",
        "print(cov_matrix)\n"
      ],
      "metadata": {
        "colab": {
          "base_uri": "https://localhost:8080/"
        },
        "id": "ZGR2eE87DOYF",
        "outputId": "3500f353-ce6c-48be-b16c-1a4a3569b085"
      },
      "execution_count": null,
      "outputs": [
        {
          "output_type": "stream",
          "name": "stdout",
          "text": [
            "company_ticker         GE         BA         TDG       MMM        PWR  \\\n",
            "company_ticker                                                          \n",
            "GE               5.962934   1.854611   21.453963  0.911837   5.630803   \n",
            "BA               1.854611  16.322329   13.698628  1.202781   2.693213   \n",
            "TDG             21.453963  13.698628  238.378562  4.310709  41.388752   \n",
            "MMM              0.911837   1.202781    4.310709  4.250569   2.590476   \n",
            "PWR              5.630803   2.693213   41.388752  2.590476  22.808514   \n",
            "CAT              4.860704   4.316987   27.844742  2.367994  10.701638   \n",
            "GD               1.910292   2.454744   12.833350  0.702718   3.535318   \n",
            "ATO              0.082989   0.662962    2.948211  0.506252   0.418278   \n",
            "TXT              0.863699   1.248291    5.101477  0.342080   1.953272   \n",
            "KHC             -0.073269   0.071205    0.058048  0.092227  -0.063172   \n",
            "NUE              1.262935   2.005113    8.293999  1.147684   3.743743   \n",
            "STLD             1.519733   2.466863    8.629112  0.831378   2.936902   \n",
            "SNA              2.607502   3.442807   21.492357  2.135528   5.321259   \n",
            "LUV              0.285259   0.896501    1.165175 -0.025572   0.487728   \n",
            "LMT              0.429515   3.068256    6.329358  1.394353  -0.114238   \n",
            "PH               9.483228   9.035407   70.349209  4.586637  23.441059   \n",
            "EMR              1.290526   1.563915    9.897788  0.882102   3.193626   \n",
            "MCD             -0.440094   1.405117    3.889675  0.630247   1.087362   \n",
            "\n",
            "company_ticker        CAT         GD       ATO       TXT       KHC       NUE  \\\n",
            "company_ticker                                                                 \n",
            "GE               4.860704   1.910292  0.082989  0.863699 -0.073269  1.262935   \n",
            "BA               4.316987   2.454744  0.662962  1.248291  0.071205  2.005113   \n",
            "TDG             27.844742  12.833350  2.948211  5.101477  0.058048  8.293999   \n",
            "MMM              2.367994   0.702718  0.506252  0.342080  0.092227  1.147684   \n",
            "PWR             10.701638   3.535318  0.418278  1.953272 -0.063172  3.743743   \n",
            "CAT             24.674711   3.901752  1.019622  3.624905  0.210682  5.545530   \n",
            "GD               3.901752   7.980262  0.691842  1.582161  0.213883  1.719816   \n",
            "ATO              1.019622   0.691842  1.352672  0.278831  0.148407  0.672460   \n",
            "TXT              3.624905   1.582161  0.278831  1.414537  0.055163  0.875373   \n",
            "KHC              0.210682   0.213883  0.148407  0.055163  0.191973  0.156694   \n",
            "NUE              5.545530   1.719816  0.672460  0.875373  0.156694  8.058267   \n",
            "STLD             4.404168   1.513796  0.343878  0.784547  0.069284  4.784385   \n",
            "SNA              8.715711   2.368155  1.285788  1.615358  0.201351  3.766135   \n",
            "LUV              1.161847   0.189064  0.120104  0.269346  0.018770  0.225489   \n",
            "LMT             -0.289697   6.284561  1.890082  0.872264  0.599357  0.243535   \n",
            "PH              26.472862   7.454197  1.974186  4.386168  0.222640  7.342767   \n",
            "EMR              4.034496   1.039758  0.339786  0.761167  0.014342  1.580337   \n",
            "MCD              0.289044   1.525805  1.356419  0.583402  0.467183  0.987205   \n",
            "\n",
            "company_ticker      STLD        SNA       LUV        LMT         PH       EMR  \\\n",
            "company_ticker                                                                  \n",
            "GE              1.519733   2.607502  0.285259   0.429515   9.483228  1.290526   \n",
            "BA              2.466863   3.442807  0.896501   3.068256   9.035407  1.563915   \n",
            "TDG             8.629112  21.492357  1.165175   6.329358  70.349209  9.897788   \n",
            "MMM             0.831378   2.135528 -0.025572   1.394353   4.586637  0.882102   \n",
            "PWR             2.936902   5.321259  0.487728  -0.114238  23.441059  3.193626   \n",
            "CAT             4.404168   8.715711  1.161847  -0.289697  26.472862  4.034496   \n",
            "GD              1.513796   2.368155  0.189064   6.284561   7.454197  1.039758   \n",
            "ATO             0.343878   1.285788  0.120104   1.890082   1.974186  0.339786   \n",
            "TXT             0.784547   1.615358  0.269346   0.872264   4.386168  0.761167   \n",
            "KHC             0.069284   0.201351  0.018770   0.599357   0.222640  0.014342   \n",
            "NUE             4.784385   3.766135  0.225489   0.243535   7.342767  1.580337   \n",
            "STLD            4.556604   2.995658  0.139672   0.035879   6.457229  1.330137   \n",
            "SNA             2.995658  13.877686  0.433997   2.095221  14.639090  2.610067   \n",
            "LUV             0.139672   0.433997  0.441075  -0.022643   1.928432  0.187671   \n",
            "LMT             0.035879   2.095221 -0.022643  23.562634   1.105422  0.141495   \n",
            "PH              6.457229  14.639090  1.928432   1.105422  68.658267  7.853432   \n",
            "EMR             1.330137   2.610067  0.187671   0.141495   7.853432  2.452395   \n",
            "MCD            -0.064577   1.539513  0.281987   3.216972   3.250508  0.479808   \n",
            "\n",
            "company_ticker       MCD  \n",
            "company_ticker            \n",
            "GE             -0.440094  \n",
            "BA              1.405117  \n",
            "TDG             3.889675  \n",
            "MMM             0.630247  \n",
            "PWR             1.087362  \n",
            "CAT             0.289044  \n",
            "GD              1.525805  \n",
            "ATO             1.356419  \n",
            "TXT             0.583402  \n",
            "KHC             0.467183  \n",
            "NUE             0.987205  \n",
            "STLD           -0.064577  \n",
            "SNA             1.539513  \n",
            "LUV             0.281987  \n",
            "LMT             3.216972  \n",
            "PH              3.250508  \n",
            "EMR             0.479808  \n",
            "MCD             8.484889  \n"
          ]
        }
      ]
    },
    {
      "cell_type": "code",
      "source": [
        "cov_matrix_np = cov_matrix.to_numpy()\n",
        "cov_matrix_np\n"
      ],
      "metadata": {
        "colab": {
          "base_uri": "https://localhost:8080/"
        },
        "id": "V7V421QuEAgg",
        "outputId": "ae9ea1bd-58dc-455b-aa56-0caa652d7893"
      },
      "execution_count": null,
      "outputs": [
        {
          "output_type": "execute_result",
          "data": {
            "text/plain": [
              "array([[ 5.96293429e+00,  1.85461133e+00,  2.14539625e+01,\n",
              "         9.11837499e-01,  5.63080325e+00,  4.86070372e+00,\n",
              "         1.91029162e+00,  8.29894117e-02,  8.63698644e-01,\n",
              "        -7.32693847e-02,  1.26293453e+00,  1.51973333e+00,\n",
              "         2.60750203e+00,  2.85258567e-01,  4.29514551e-01,\n",
              "         9.48322817e+00,  1.29052605e+00, -4.40094489e-01],\n",
              "       [ 1.85461133e+00,  1.63223288e+01,  1.36986284e+01,\n",
              "         1.20278100e+00,  2.69321324e+00,  4.31698714e+00,\n",
              "         2.45474375e+00,  6.62962322e-01,  1.24829120e+00,\n",
              "         7.12047737e-02,  2.00511284e+00,  2.46686324e+00,\n",
              "         3.44280673e+00,  8.96501405e-01,  3.06825563e+00,\n",
              "         9.03540725e+00,  1.56391492e+00,  1.40511674e+00],\n",
              "       [ 2.14539625e+01,  1.36986284e+01,  2.38378562e+02,\n",
              "         4.31070909e+00,  4.13887517e+01,  2.78447419e+01,\n",
              "         1.28333505e+01,  2.94821065e+00,  5.10147719e+00,\n",
              "         5.80479150e-02,  8.29399877e+00,  8.62911225e+00,\n",
              "         2.14923569e+01,  1.16517511e+00,  6.32935796e+00,\n",
              "         7.03492091e+01,  9.89778766e+00,  3.88967493e+00],\n",
              "       [ 9.11837499e-01,  1.20278100e+00,  4.31070909e+00,\n",
              "         4.25056873e+00,  2.59047614e+00,  2.36799377e+00,\n",
              "         7.02717642e-01,  5.06252387e-01,  3.42079715e-01,\n",
              "         9.22274359e-02,  1.14768368e+00,  8.31377931e-01,\n",
              "         2.13552833e+00, -2.55719301e-02,  1.39435291e+00,\n",
              "         4.58663738e+00,  8.82102083e-01,  6.30246766e-01],\n",
              "       [ 5.63080325e+00,  2.69321324e+00,  4.13887517e+01,\n",
              "         2.59047614e+00,  2.28085138e+01,  1.07016378e+01,\n",
              "         3.53531845e+00,  4.18278418e-01,  1.95327153e+00,\n",
              "        -6.31724728e-02,  3.74374253e+00,  2.93690234e+00,\n",
              "         5.32125915e+00,  4.87727797e-01, -1.14238054e-01,\n",
              "         2.34410593e+01,  3.19362583e+00,  1.08736180e+00],\n",
              "       [ 4.86070372e+00,  4.31698714e+00,  2.78447419e+01,\n",
              "         2.36799377e+00,  1.07016378e+01,  2.46747108e+01,\n",
              "         3.90175181e+00,  1.01962204e+00,  3.62490453e+00,\n",
              "         2.10682413e-01,  5.54552954e+00,  4.40416754e+00,\n",
              "         8.71571085e+00,  1.16184662e+00, -2.89696829e-01,\n",
              "         2.64728617e+01,  4.03449569e+00,  2.89044470e-01],\n",
              "       [ 1.91029162e+00,  2.45474375e+00,  1.28333505e+01,\n",
              "         7.02717642e-01,  3.53531845e+00,  3.90175181e+00,\n",
              "         7.98026182e+00,  6.91842323e-01,  1.58216139e+00,\n",
              "         2.13883442e-01,  1.71981615e+00,  1.51379559e+00,\n",
              "         2.36815454e+00,  1.89064059e-01,  6.28456143e+00,\n",
              "         7.45419681e+00,  1.03975754e+00,  1.52580498e+00],\n",
              "       [ 8.29894117e-02,  6.62962322e-01,  2.94821065e+00,\n",
              "         5.06252387e-01,  4.18278418e-01,  1.01962204e+00,\n",
              "         6.91842323e-01,  1.35267181e+00,  2.78830936e-01,\n",
              "         1.48407328e-01,  6.72459690e-01,  3.43878054e-01,\n",
              "         1.28578816e+00,  1.20103555e-01,  1.89008235e+00,\n",
              "         1.97418555e+00,  3.39785682e-01,  1.35641899e+00],\n",
              "       [ 8.63698644e-01,  1.24829120e+00,  5.10147719e+00,\n",
              "         3.42079715e-01,  1.95327153e+00,  3.62490453e+00,\n",
              "         1.58216139e+00,  2.78830936e-01,  1.41453716e+00,\n",
              "         5.51625303e-02,  8.75373499e-01,  7.84546735e-01,\n",
              "         1.61535842e+00,  2.69346294e-01,  8.72263926e-01,\n",
              "         4.38616780e+00,  7.61166583e-01,  5.83401968e-01],\n",
              "       [-7.32693847e-02,  7.12047737e-02,  5.80479150e-02,\n",
              "         9.22274359e-02, -6.31724728e-02,  2.10682413e-01,\n",
              "         2.13883442e-01,  1.48407328e-01,  5.51625303e-02,\n",
              "         1.91973474e-01,  1.56693765e-01,  6.92836130e-02,\n",
              "         2.01351134e-01,  1.87696179e-02,  5.99356532e-01,\n",
              "         2.22639868e-01,  1.43419260e-02,  4.67182658e-01],\n",
              "       [ 1.26293453e+00,  2.00511284e+00,  8.29399877e+00,\n",
              "         1.14768368e+00,  3.74374253e+00,  5.54552954e+00,\n",
              "         1.71981615e+00,  6.72459690e-01,  8.75373499e-01,\n",
              "         1.56693765e-01,  8.05826692e+00,  4.78438498e+00,\n",
              "         3.76613513e+00,  2.25489453e-01,  2.43534711e-01,\n",
              "         7.34276729e+00,  1.58033677e+00,  9.87205129e-01],\n",
              "       [ 1.51973333e+00,  2.46686324e+00,  8.62911225e+00,\n",
              "         8.31377931e-01,  2.93690234e+00,  4.40416754e+00,\n",
              "         1.51379559e+00,  3.43878054e-01,  7.84546735e-01,\n",
              "         6.92836130e-02,  4.78438498e+00,  4.55660425e+00,\n",
              "         2.99565839e+00,  1.39671715e-01,  3.58787256e-02,\n",
              "         6.45722919e+00,  1.33013729e+00, -6.45773320e-02],\n",
              "       [ 2.60750203e+00,  3.44280673e+00,  2.14923569e+01,\n",
              "         2.13552833e+00,  5.32125915e+00,  8.71571085e+00,\n",
              "         2.36815454e+00,  1.28578816e+00,  1.61535842e+00,\n",
              "         2.01351134e-01,  3.76613513e+00,  2.99565839e+00,\n",
              "         1.38776864e+01,  4.33997239e-01,  2.09522112e+00,\n",
              "         1.46390896e+01,  2.61006731e+00,  1.53951250e+00],\n",
              "       [ 2.85258567e-01,  8.96501405e-01,  1.16517511e+00,\n",
              "        -2.55719301e-02,  4.87727797e-01,  1.16184662e+00,\n",
              "         1.89064059e-01,  1.20103555e-01,  2.69346294e-01,\n",
              "         1.87696179e-02,  2.25489453e-01,  1.39671715e-01,\n",
              "         4.33997239e-01,  4.41074522e-01, -2.26434332e-02,\n",
              "         1.92843228e+00,  1.87670729e-01,  2.81986521e-01],\n",
              "       [ 4.29514551e-01,  3.06825563e+00,  6.32935796e+00,\n",
              "         1.39435291e+00, -1.14238054e-01, -2.89696829e-01,\n",
              "         6.28456143e+00,  1.89008235e+00,  8.72263926e-01,\n",
              "         5.99356532e-01,  2.43534711e-01,  3.58787256e-02,\n",
              "         2.09522112e+00, -2.26434332e-02,  2.35626344e+01,\n",
              "         1.10542197e+00,  1.41495398e-01,  3.21697246e+00],\n",
              "       [ 9.48322817e+00,  9.03540725e+00,  7.03492091e+01,\n",
              "         4.58663738e+00,  2.34410593e+01,  2.64728617e+01,\n",
              "         7.45419681e+00,  1.97418555e+00,  4.38616780e+00,\n",
              "         2.22639868e-01,  7.34276729e+00,  6.45722919e+00,\n",
              "         1.46390896e+01,  1.92843228e+00,  1.10542197e+00,\n",
              "         6.86582674e+01,  7.85343249e+00,  3.25050810e+00],\n",
              "       [ 1.29052605e+00,  1.56391492e+00,  9.89778766e+00,\n",
              "         8.82102083e-01,  3.19362583e+00,  4.03449569e+00,\n",
              "         1.03975754e+00,  3.39785682e-01,  7.61166583e-01,\n",
              "         1.43419260e-02,  1.58033677e+00,  1.33013729e+00,\n",
              "         2.61006731e+00,  1.87670729e-01,  1.41495398e-01,\n",
              "         7.85343249e+00,  2.45239451e+00,  4.79808219e-01],\n",
              "       [-4.40094489e-01,  1.40511674e+00,  3.88967493e+00,\n",
              "         6.30246766e-01,  1.08736180e+00,  2.89044470e-01,\n",
              "         1.52580498e+00,  1.35641899e+00,  5.83401968e-01,\n",
              "         4.67182658e-01,  9.87205129e-01, -6.45773320e-02,\n",
              "         1.53951250e+00,  2.81986521e-01,  3.21697246e+00,\n",
              "         3.25050810e+00,  4.79808219e-01,  8.48488933e+00]])"
            ]
          },
          "metadata": {},
          "execution_count": 85
        }
      ]
    },
    {
      "cell_type": "code",
      "source": [
        "rmin_values = np.arange(0, 1.5, 0.05)\n",
        "# Convert the numpy array to a list (optional)\n",
        "rmin_list = rmin_values.tolist()\n",
        "\n",
        "# def Markovitz_Weights(rmin, cov_matrix_np, pBar_array):\n",
        "#     N = len(cov_matrix_np)\n",
        "#     o = np.ones(N)\n",
        "#     SigmaInv = np.linalg.inv(cov_matrix_np)\n",
        "#     A = np.dot(pBar_array.T, np.dot(SigmaInv, pBar_array))\n",
        "#     B = np.dot(pBar_array.T, np.dot(SigmaInv, o))\n",
        "#     C = np.dot(o.T, np.dot(SigmaInv, o))\n",
        "\n",
        "#     # Calculate the raw weights using the given formula\n",
        "#     raw_weights = (1 / (A * C - B**2)) * (np.dot(SigmaInv, (C * rmin - B) * pBar_array) + (A - B * rmin) * o)\n",
        "\n",
        "#     # Adjust weights to ensure no short selling (weights >= 0)\n",
        "#     #raw_weights[raw_weights < 0] = 0\n",
        "\n",
        "#     # Rescale weights to sum to 1\n",
        "\n",
        "\n",
        "#     return raw_weights\n",
        "\n",
        "def Markovitz_Weights_1(rmin, cov_matrix_np, pBar_array):\n",
        "    N = len(cov_matrix_np)\n",
        "    o = np.ones(N)\n",
        "    SigmaInv = np.linalg.inv(cov_matrix_np)\n",
        "    A = np.dot(pBar_array.T, np.dot(SigmaInv, pBar_array))\n",
        "    B = np.dot(pBar_array.T, np.dot(SigmaInv, o))\n",
        "    C = np.dot(o.T, np.dot(SigmaInv, o))\n",
        "\n",
        "    # Calculate the raw weights using the given formula\n",
        "    raw_weights = (1 / (A * C - B**2)) * (np.dot(SigmaInv, (C * rmin - B) * pBar_array) + (A - B * rmin) * o)\n",
        "\n",
        "    # Adjust weights to ensure no short selling (weights >= 0)\n",
        "    # raw_weights[raw_weights < 0] = 0\n",
        "\n",
        "    # # Rescale weights to sum to 1\n",
        "    # total_weight = np.sum(raw_weights)\n",
        "    # if total_weight > 0:  # Avoid division by zero\n",
        "    #     weights = raw_weights / total_weight\n",
        "    # else:\n",
        "    #     weights = raw_weights  # If all weights are zero, keep them as is\n",
        "\n",
        "    return raw_weights/np.sum(raw_weights)\n",
        "\n",
        "\n",
        "def Markovitz_Weights_2(rmin, cov_matrix_np, pBar_array):\n",
        "    N = len(cov_matrix_np)\n",
        "    o = np.ones(N)\n",
        "    SigmaInv = np.linalg.inv(cov_matrix_np)\n",
        "    A = np.dot(pBar_array.T, np.dot(SigmaInv, pBar_array))\n",
        "    B = np.dot(pBar_array.T, np.dot(SigmaInv, o))\n",
        "    C = np.dot(o.T, np.dot(SigmaInv, o))\n",
        "\n",
        "    # Calculate the raw weights using the given formula\n",
        "    raw_weights = (1 / (A * C - B**2)) * (np.dot(SigmaInv, (C * rmin - B) * pBar_array) + (A - B * rmin) * o)\n",
        "\n",
        "    #Adjust weights to ensure no short selling (weights >= 0)\n",
        "    raw_weights[raw_weights < 0] = 0\n",
        "\n",
        "    # Rescale weights to sum to 1\n",
        "    total_weight = np.sum(raw_weights)\n",
        "    if total_weight > 0:  # Avoid division by zero\n",
        "        weights = raw_weights / total_weight\n",
        "    else:\n",
        "        weights = raw_weights  # If all weights are zero, keep them as is\n",
        "\n",
        "    return raw_weights/np.sum(raw_weights)\n",
        "\n",
        "\n"
      ],
      "metadata": {
        "id": "tSJNzTO1Egql"
      },
      "execution_count": null,
      "outputs": []
    },
    {
      "cell_type": "code",
      "source": [
        "rmin = 0.15\n",
        "weights_1 = Markovitz_Weights_1(rmin, cov_matrix_np, pBar_array)\n",
        "weights_2 = Markovitz_Weights_2(rmin, cov_matrix_np, pBar_array)\n",
        "# Print the calculated weights\n",
        "print(weights_1)\n",
        "print(weights_2)\n"
      ],
      "metadata": {
        "colab": {
          "base_uri": "https://localhost:8080/"
        },
        "id": "32QjG3iVTaOu",
        "outputId": "f774f94d-70b6-4c59-997a-8a23c7434642"
      },
      "execution_count": null,
      "outputs": [
        {
          "output_type": "stream",
          "name": "stdout",
          "text": [
            "[ 0.10658254  0.01032821  0.06157609  0.1053635   0.03931878  0.06623899\n",
            "  0.08236493  0.11338375  0.02375149  0.03186783 -0.02047542  0.13617418\n",
            "  0.03078961 -0.00675872  0.07821278  0.06810973  0.02678722  0.04638451]\n",
            "[0.10375681 0.01005439 0.05994358 0.1025701  0.03827636 0.06448286\n",
            " 0.08018127 0.1103777  0.02312179 0.03102295 0.         0.13256392\n",
            " 0.02997332 0.         0.07613919 0.066304   0.02607703 0.04515476]\n"
          ]
        }
      ]
    },
    {
      "cell_type": "code",
      "source": [
        "# Lists to store the risks (variance) and corresponding returns\n",
        "risks_1 = []\n",
        "returns_1 = []\n",
        "risks_2 = []\n",
        "returns_2 = []\n",
        "\n",
        "# Iterate over each rmin in rmin_list\n",
        "for rmin in range(1,1000):\n",
        "    # Convert the current rmin to a float\n",
        "    rmin = float(rmin)\n",
        "    rmin = rmin/1000\n",
        "    # Calculate the weight vector for the current rmin\n",
        "    weights_1 = Markovitz_Weights_1(rmin, cov_matrix_np, pBar_array)\n",
        "    weights_2 = Markovitz_Weights_2(rmin, cov_matrix_np, pBar_array)\n",
        "\n",
        "    # Calculate the expected return (dot product of weights and pBar_array)\n",
        "    expected_return_1 = np.dot(weights_1, pBar_array)\n",
        "    expected_return_2 = np.dot(weights_2, pBar_array)\n",
        "\n",
        "    # Calculate the risk (portfolio variance)\n",
        "    risk_1 = np.dot(weights_1.T, np.dot(cov_matrix_np, weights_1))\n",
        "    risk_2 = np.dot(weights_2.T, np.dot(cov_matrix_np, weights_2))\n",
        "\n",
        "    # Store the risk and return values\n",
        "    risks_1.append(risk_1)\n",
        "    returns_1.append(expected_return_1)\n",
        "    risks_2.append(risk_2)\n",
        "    returns_2.append(expected_return_2)\n",
        "\n",
        "import matplotlib.pyplot as plt\n",
        "\n",
        "# Plot the efficient frontier\n",
        "plt.plot(risks_1, returns_1, label='Method 1', color = 'r')\n",
        "plt.plot(risks_2, returns_2, label='Method 2', color = 'b')\n",
        "plt.xlabel('Risk')\n",
        "plt.ylabel('Return')\n",
        "plt.title('Efficient Frontier(Weight constrained and weight unconstrained)')\n",
        "plt.grid(True)\n",
        "plt.show()\n"
      ],
      "metadata": {
        "colab": {
          "base_uri": "https://localhost:8080/",
          "height": 472
        },
        "id": "s8lMzlHcl8R_",
        "outputId": "c6c29926-bbf1-428c-ca0a-6e09a8407787"
      },
      "execution_count": null,
      "outputs": [
        {
          "output_type": "display_data",
          "data": {
            "text/plain": [
              "<Figure size 640x480 with 1 Axes>"
            ],
            "image/png": "[encoded data removed]"
          },
          "metadata": {}
        }
      ]
    },
    {
      "cell_type": "code",
      "source": [
        "plt.plot(risks_1, returns_1, label='Method 2', color = 'r')\n",
        "plt.xlabel('Risk')\n",
        "plt.ylabel('Return')\n",
        "plt.title('Efficient Frontier with constrained weights (Long+Short)')\n",
        "plt.grid(True)\n",
        "plt.show()"
      ],
      "metadata": {
        "colab": {
          "base_uri": "https://localhost:8080/",
          "height": 472
        },
        "id": "JBO2SFrw1vCO",
        "outputId": "f547e6cc-2740-4ee6-8f45-57dab0bb12a8"
      },
      "execution_count": null,
      "outputs": [
        {
          "output_type": "display_data",
          "data": {
            "text/plain": [
              "<Figure size 640x480 with 1 Axes>"
            ],
            "image/png": "[encoded data removed]"
          },
          "metadata": {}
        }
      ]
    },
    {
      "cell_type": "code",
      "source": [
        "plt.plot(risks_2, returns_2, label='Method 2', color = 'b')\n",
        "plt.xlabel('Risk')\n",
        "plt.ylabel('Return')\n",
        "plt.title('Efficient Frontier with constrained weights (Only Long)')\n",
        "plt.grid(True)\n",
        "plt.show()\n",
        "\n",
        "#"
      ],
      "metadata": {
        "colab": {
          "base_uri": "https://localhost:8080/",
          "height": 472
        },
        "id": "3XItDt42y--Z",
        "outputId": "547a3f4e-abbb-4ae4-aa58-f03551810fd8"
      },
      "execution_count": null,
      "outputs": [
        {
          "output_type": "display_data",
          "data": {
            "text/plain": [
              "<Figure size 640x480 with 1 Axes>"
            ],
            "image/png": "[encoded data removed]"
          },
          "metadata": {}
        }
      ]
    }
  ]
}